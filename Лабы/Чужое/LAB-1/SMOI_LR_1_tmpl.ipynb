{
 "cells": [
  {
   "cell_type": "markdown",
   "metadata": {},
   "source": [
    "# Лабораторная работа №1\n",
    "### Оценивание параметров линейного стационарного объекта методом наименьших квадратов"
   ]
  },
  {
   "cell_type": "markdown",
   "metadata": {},
   "source": [
    "Линейный регрессионный объект имеет вид:\n",
    "\\begin{equation}y(i)=b_{0}u_{0}(i)+b_{1}u_{1}(i)+...+b_{m}u_{m}(i)+\\eta(i)\\end{equation}"
   ]
  },
  {
   "cell_type": "markdown",
   "metadata": {},
   "source": [
    "Соответствующая ему модель:\n",
    "\\begin{equation}\\tilde{y}(i)=\\tilde{b}_{0}u_{0}(i)+\\tilde{b}_{1}u_{1}(i)+...+\\tilde{b}_{m}u_{m}(i)\\end{equation}"
   ]
  },
  {
   "cell_type": "markdown",
   "metadata": {},
   "source": [
    "#### Моделирование работы объекта"
   ]
  },
  {
   "cell_type": "markdown",
   "metadata": {},
   "source": [
    "В работе будет рассматриваться линейный регрессионный объект с 4 входами и свободным членом. Значения параметров \\begin{equation}b_{0}, b_{1}, b_{2}, b_{3}, b_{4}\\end{equation} должно быть задано в соответствии с вашим вариантом №(указать вариант): "
   ]
  },
  {
   "cell_type": "code",
   "execution_count": 1,
   "metadata": {},
   "outputs": [],
   "source": [
    "#Ваш код здесь\n",
    "b0=3.5\n",
    "b1=-0.3\n",
    "b2=0\n",
    "b3=6.0\n",
    "b4=-2.2"
   ]
  },
  {
   "cell_type": "markdown",
   "metadata": {},
   "source": [
    "В качестве «входов» имитируемого объекта используются псевдослучайные **нормально распределенные** числа, \n",
    "получаемые от генератора псевдослучайных **нормально распределенных** чисел. \n",
    "\n",
    "Задайте параметры распределения для генерации «входов» объекта:"
   ]
  },
  {
   "cell_type": "code",
   "execution_count": 2,
   "metadata": {},
   "outputs": [],
   "source": [
    "#Ваш код здесь\n",
    "Avg_U1=0\n",
    "Var_U1=10\n",
    "Avg_U2=0\n",
    "Var_U2=10\n",
    "Avg_U3=0\n",
    "Var_U3=10\n",
    "Avg_U4=0\n",
    "Var_U4=10"
   ]
  },
  {
   "cell_type": "markdown",
   "metadata": {},
   "source": [
    "Выберите желаемый объем измерений (размерность i-ого входа), который будет съимитирован:"
   ]
  },
  {
   "cell_type": "code",
   "execution_count": 3,
   "metadata": {},
   "outputs": [],
   "source": [
    "#Ваш код здесь\n",
    "#Например:\n",
    "N=90"
   ]
  },
  {
   "cell_type": "markdown",
   "metadata": {},
   "source": [
    "Пусть «шум», действующий на объект, тоже **нормально распределен**.\n",
    "Задайте параметры его распределения:"
   ]
  },
  {
   "cell_type": "code",
   "execution_count": 4,
   "metadata": {},
   "outputs": [],
   "source": [
    "#Ваш код здесь\n",
    "Avg_noise=4\n",
    "Var_noise=1"
   ]
  },
  {
   "cell_type": "markdown",
   "metadata": {},
   "source": [
    "Cформируем «входы» объекта и действиующий на него шум: "
   ]
  },
  {
   "cell_type": "code",
   "execution_count": 5,
   "metadata": {},
   "outputs": [],
   "source": [
    "import numpy as np"
   ]
  },
  {
   "cell_type": "code",
   "execution_count": 6,
   "metadata": {},
   "outputs": [],
   "source": [
    "#Ваш код здесь\n",
    "U1=np.random.normal(Avg_U1,Var_U1,N)\n",
    "U2=np.random.normal(Avg_U2,Var_U2,N)\n",
    "U3=np.random.normal(Avg_U3,Var_U3,N)\n",
    "U4=np.random.normal(Avg_U4,Var_U4,N)\n",
    "Noise=np.random.normal(Avg_noise,Var_noise,N)"
   ]
  },
  {
   "cell_type": "markdown",
   "metadata": {},
   "source": [
    "Теперь задание исходных данных для имитационного моделирования объекта завершено. Проведем моделирование сформированного объекта:"
   ]
  },
  {
   "cell_type": "code",
   "execution_count": 7,
   "metadata": {},
   "outputs": [],
   "source": [
    "y=b0+b1*U1+b2*U2+b3*U3+b4*U4+Noise"
   ]
  },
  {
   "cell_type": "code",
   "execution_count": 8,
   "metadata": {},
   "outputs": [
    {
     "name": "stdout",
     "output_type": "stream",
     "text": [
      "[   3.09501198   90.36530478  -91.63867097   98.14088735    0.52670761\n",
      "  175.4674511   -26.28983961  -46.33019549   -8.78220966  -66.43896044\n",
      "  -80.2904622    35.24829387  -39.00577932   18.66478379   28.09368181\n",
      "   59.11464404  -13.30333999    2.67583254  -41.74097255  186.5929407\n",
      "  -48.33856017  -63.54108616  -69.65213183   18.50885006   28.60214605\n",
      "   76.41037088   82.70612818    1.93338196  -53.71375486   22.04996402\n",
      "  -16.5862191   -35.49463777   54.73211381  108.51783385   23.26450386\n",
      "   92.18988249   23.64564791  117.76446862  -13.98625441  -74.60899481\n",
      "  -17.62258338  -71.07268746   28.14236058   72.37864301  -62.35963453\n",
      "  -17.62848268  -32.82817368  -52.96921536   -8.10033743   24.96988795\n",
      "  -44.57326168   73.36771789  -85.30025901   44.71762567  -88.35150111\n",
      "  -17.39610531  -36.63738134  -33.55444725   53.1120332     8.20461316\n",
      "   67.40477079   90.61432679   29.78310684  -43.02239986  -50.98455554\n",
      "   11.50032635  -72.02152725  -30.0822268    78.76294517   38.66459811\n",
      "  -14.02485658    6.04839641   44.61119422   83.91466868   54.74197227\n",
      "   92.96090788  -54.27594785   25.42087541   65.7256408    93.13486984\n",
      "   11.15621946   17.03916641   30.35399179  -39.3454092   -22.19866029\n",
      "   -0.63466223    3.69735979   75.23258784 -149.7090585  -112.15522435]\n"
     ]
    }
   ],
   "source": [
    "print(y)"
   ]
  },
  {
   "cell_type": "markdown",
   "metadata": {},
   "source": [
    "#### Формирование алгоритма МНК"
   ]
  },
  {
   "cell_type": "markdown",
   "metadata": {},
   "source": [
    "Методу наименьших квадратов соответствует квадратичная функция потерь. \n",
    "Для объекта с одним выходом эта функция имеет вид:\n",
    "\\begin{equation}F(\\epsilon(i,\\vec{\\tilde{b}}))=(y(i) - \\tilde{y}(i, \\vec{\\tilde{b}}))^2\\end{equation}\n",
    "Критерий качества в векторной форме:\n",
    "\\begin{equation}J(\\vec{\\tilde{b}})=( \\vec{y} -\\vec{\\tilde{y}})^T(\\vec{y}-\\vec{\\tilde{y}}) \\end{equation}\n",
    "\n",
    "Для нахождения оценки параметров, обеспечивающей минимум критерия качества, т.е. \n",
    "$\\frac{\\partial J(\\vec{\\tilde{b}})}{\\partial \\vec{\\tilde{b}}}\\biggr\\rvert_{\\vec{\\tilde{b}} = \\vec{\\hat{b}_{LS}}} = 0$\n",
    "необходимо решить уравнение:\n",
    "$\\vec{\\hat{b}_{LS}}=(U^TRU)^{-1}U^TR\\vec{y}$"
   ]
  },
  {
   "cell_type": "markdown",
   "metadata": {},
   "source": [
    "Сформируйте матрицу $U$, состоящую из \"входов\" $U_i$, найдите оценку параметров объекта по МНК и ковариационную матрицу ошибок оценки.\n",
    "Используйте функционал библиотеки numpy для работы с матрицами."
   ]
  },
  {
   "cell_type": "code",
   "execution_count": 9,
   "metadata": {},
   "outputs": [
    {
     "name": "stdout",
     "output_type": "stream",
     "text": [
      "[[ 6.97089966 -0.29019327  0.00749197  6.0170351  -2.21126283]]\n",
      "3870.376113785013 3869.53717427691\n",
      "1.000216806163197\n"
     ]
    }
   ],
   "source": [
    "# Ваш код здесь\n",
    "R=np.eye(N)\n",
    "y0=np.asmatrix(y-np.mean(y))\n",
    "U1_avg=np.mean(U1)\n",
    "U2_avg=np.mean(U2)\n",
    "U3_avg=np.mean(U3)\n",
    "U4_avg=np.mean(U4)\n",
    "U1=np.asmatrix(U1)\n",
    "U1=U1.getT()\n",
    "U2=np.asmatrix(U2)\n",
    "U2=U2.getT()\n",
    "U3=np.asmatrix(U3)\n",
    "U3=U3.getT()\n",
    "U4=np.asmatrix(U4)\n",
    "U4=U4.getT()\n",
    "\n",
    "U_m=np.concatenate((np.asmatrix(np.ones(N)).getT(),U1,U2,U3,U4),axis=1)\n",
    "\n",
    "U1=U1-np.mean(U1)\n",
    "U2=U2-np.mean(U2)\n",
    "U3=U3-np.mean(U3)\n",
    "U4=U4-np.mean(U4)\n",
    "\n",
    "U=np.concatenate((U1,U2,U3,U4),axis=1)\n",
    "b_i=(U.getT()*R*U).getI()*U.getT()*R*y0.getT()\n",
    "b_0=np.mean(y)-b_i.item((0,0))*np.mean(U1)-b_i.item((1,0))*np.mean(U2)- b_i.item((2,0))*np.mean(U3)- b_i.item((3,0))*np.mean(U4)\n",
    "B=np.insert(b_i, 0, b_0)\n",
    "var_y = np.var(y)\n",
    "var_model = np.var(B*U_m.getT())\n",
    "print(B)\n",
    "print(var_y, var_model)\n",
    "if var_y<=var_model:\n",
    "    print(var_model/var_y)\n",
    "else:\n",
    "    print(var_y/var_model)"
   ]
  },
  {
   "cell_type": "markdown",
   "metadata": {},
   "source": [
    "#### По реализованному алгоритму МНК  должно быть исследовано следующее:"
   ]
  },
  {
   "cell_type": "markdown",
   "metadata": {},
   "source": [
    "1) зависимость точности оценки параметров $b_0, b_1, b_2, b_3, b_4$ от дисперсии шума измерений $\\sigma_\\eta^2$  и дисперсии «входных» параметров $\\sigma_u^2$.\n",
    "\n",
    "2) влияние математического ожидания шума измерений μη на точность оценки\n",
    "\n",
    "3) проверка по критерию Фишера адекватности модели тестовому объекту.\n",
    "\n",
    "Указания к проведению данных пунктов находятся в лаборатоном практикуме."
   ]
  },
  {
   "cell_type": "markdown",
   "metadata": {
    "collapsed": true
   },
   "source": [
    "**После выполнения лабораторной работы необходимо написать краткий отчет, который должен включать в себя:**\n",
    "    - титульный лист\n",
    "    - оглавление\n",
    "    - описание моделируемого объекта\n",
    "    - математические выкладки о применении МНК для оценки параметров моделируемого объекта\n",
    "    - выводы о зависимости точности оценки параметров b0, b1, b2, b3, b4 от дисперсии шума измерений и дисперсии «входных» параметров\n",
    "    - влияние математического ожидания шума измерений на точность оценки\n",
    "    - проверку адекватности модели тестовому объекту по критерию Фишера."
   ]
  },
  {
   "cell_type": "code",
   "execution_count": 14,
   "metadata": {},
   "outputs": [
    {
     "data": {
      "text/plain": [
       "(1, 90)"
      ]
     },
     "execution_count": 14,
     "metadata": {},
     "output_type": "execute_result"
    }
   ],
   "source": [
    "y0.shape"
   ]
  },
  {
   "cell_type": "code",
   "execution_count": null,
   "metadata": {},
   "outputs": [],
   "source": []
  }
 ],
 "metadata": {
  "kernelspec": {
   "display_name": "Python 3",
   "language": "python",
   "name": "python3"
  },
  "language_info": {
   "codemirror_mode": {
    "name": "ipython",
    "version": 3
   },
   "file_extension": ".py",
   "mimetype": "text/x-python",
   "name": "python",
   "nbconvert_exporter": "python",
   "pygments_lexer": "ipython3",
   "version": "3.8.5"
  }
 },
 "nbformat": 4,
 "nbformat_minor": 2
}
