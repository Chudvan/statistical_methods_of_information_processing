{
 "cells": [
  {
   "cell_type": "markdown",
   "metadata": {},
   "source": [
    "# Лабораторная работа №1\n",
    "### Оценивание параметров линейного стационарного объекта методом наименьших квадратов"
   ]
  },
  {
   "cell_type": "markdown",
   "metadata": {},
   "source": [
    "Линейный регрессионный объект имеет вид:\n",
    "\\begin{equation}y(i)=b_{0}u_{0}(i)+b_{1}u_{1}(i)+...+b_{m}u_{m}(i)+\\eta(i)\\end{equation}"
   ]
  },
  {
   "cell_type": "markdown",
   "metadata": {},
   "source": [
    "Соответствующая ему модель:\n",
    "\\begin{equation}\\tilde{y}(i)=\\tilde{b}_{0}u_{0}(i)+\\tilde{b}_{1}u_{1}(i)+...+\\tilde{b}_{m}u_{m}(i)\\end{equation}"
   ]
  },
  {
   "cell_type": "markdown",
   "metadata": {},
   "source": [
    "#### Моделирование работы объекта"
   ]
  },
  {
   "cell_type": "markdown",
   "metadata": {},
   "source": [
    "В работе будет рассматриваться линейный регрессионный объект с 4 входами и свободным членом. Значения параметров \\begin{equation}b_{0}, b_{1}, b_{2}, b_{3}, b_{4}\\end{equation} должно быть задано в соответствии с вашим вариантом №(указать вариант): "
   ]
  },
  {
   "cell_type": "code",
   "execution_count": 1,
   "metadata": {},
   "outputs": [],
   "source": [
    "#Ваш код здесь\n",
    "b0=3.5\n",
    "b1=-0.3\n",
    "b2=0\n",
    "b3=6.0\n",
    "b4=-2.2"
   ]
  },
  {
   "cell_type": "markdown",
   "metadata": {},
   "source": [
    "В качестве «входов» имитируемого объекта используются псевдослучайные **нормально распределенные** числа, \n",
    "получаемые от генератора псевдослучайных **нормально распределенных** чисел. \n",
    "\n",
    "Задайте параметры распределения для генерации «входов» объекта:"
   ]
  },
  {
   "cell_type": "code",
   "execution_count": 2,
   "metadata": {},
   "outputs": [],
   "source": [
    "#Ваш код здесь\n",
    "Avg_U1=0\n",
    "Var_U1=10\n",
    "Avg_U2=0\n",
    "Var_U2=10\n",
    "Avg_U3=0\n",
    "Var_U3=10\n",
    "Avg_U4=0\n",
    "Var_U4=10"
   ]
  },
  {
   "cell_type": "markdown",
   "metadata": {},
   "source": [
    "Выберите желаемый объем измерений (размерность i-ого входа), который будет съимитирован:"
   ]
  },
  {
   "cell_type": "code",
   "execution_count": 3,
   "metadata": {},
   "outputs": [],
   "source": [
    "#Ваш код здесь\n",
    "#Например:\n",
    "N=90"
   ]
  },
  {
   "cell_type": "markdown",
   "metadata": {},
   "source": [
    "Пусть «шум», действующий на объект, тоже **нормально распределен**.\n",
    "Задайте параметры его распределения:"
   ]
  },
  {
   "cell_type": "code",
   "execution_count": 4,
   "metadata": {},
   "outputs": [],
   "source": [
    "#Ваш код здесь\n",
    "Avg_noise=4\n",
    "Var_noise=1"
   ]
  },
  {
   "cell_type": "markdown",
   "metadata": {},
   "source": [
    "Cформируем «входы» объекта и действиующий на него шум: "
   ]
  },
  {
   "cell_type": "code",
   "execution_count": 5,
   "metadata": {},
   "outputs": [],
   "source": [
    "import numpy as np"
   ]
  },
  {
   "cell_type": "code",
   "execution_count": 6,
   "metadata": {},
   "outputs": [],
   "source": [
    "#Ваш код здесь\n",
    "U1=np.random.normal(Avg_U1,Var_U1,N)\n",
    "U2=np.random.normal(Avg_U2,Var_U2,N)\n",
    "U3=np.random.normal(Avg_U3,Var_U3,N)\n",
    "U4=np.random.normal(Avg_U4,Var_U4,N)\n",
    "Noise=np.random.normal(Avg_noise,Var_noise,N)"
   ]
  },
  {
   "cell_type": "markdown",
   "metadata": {},
   "source": [
    "Теперь задание исходных данных для имитационного моделирования объекта завершено. Проведем моделирование сформированного объекта:"
   ]
  },
  {
   "cell_type": "code",
   "execution_count": 7,
   "metadata": {},
   "outputs": [],
   "source": [
    "y=b0+b1*U1+b2*U2+b3*U3+b4*U4+Noise"
   ]
  },
  {
   "cell_type": "code",
   "execution_count": 8,
   "metadata": {},
   "outputs": [
    {
     "name": "stdout",
     "output_type": "stream",
     "text": [
      "[  13.64901664   20.40279361   67.76233398  -35.257846    -20.84321899\n",
      "   25.58765308   44.97365272   56.81472375  -19.54128905  117.58271006\n",
      "   -1.13026904   -6.92761384    5.78134262    5.69733679   -1.63898812\n",
      "  -86.63253753   -1.65556505   35.996728    145.19415985  -20.26179218\n",
      "   -6.6457108    77.27396674   49.80391578   14.2014711     8.69518428\n",
      "   62.45244037   34.93372631  135.35027408   15.45758119    2.96494514\n",
      "   49.79777757  -57.56293282  -51.52471348  -30.54821573  -14.99020503\n",
      "  -55.64676228  -31.21542161  109.06462511   31.32735079  101.1223386\n",
      "  -15.55679778    6.97540882   27.07758663    6.95508274   19.7160277\n",
      "  -45.82911704   99.88055985  -20.51055641  -44.56543448  123.39372401\n",
      "  -58.54180086  124.51300475   -4.5399217    64.89040174  -19.33291671\n",
      "   40.44466667  -17.87330248    0.50875225  -16.5733478  -139.85010926\n",
      "   45.01143256   60.69181673   82.4244034   -39.681885     -3.34519992\n",
      "   50.85906138   14.88364673  -56.600128      8.73780972   51.83765207\n",
      "   84.25447383  -46.70877765   49.32994625   96.84598082   17.70365476\n",
      "  -26.56839809    3.43130154  -75.04066432  191.42681703   62.97236948\n",
      " -136.00043229 -171.80214686  -31.53179909    5.07813945   69.60240902\n",
      " -105.71449434   95.58083468   86.96497622   39.82323557  -11.24398101]\n"
     ]
    }
   ],
   "source": [
    "print(y)"
   ]
  },
  {
   "cell_type": "markdown",
   "metadata": {},
   "source": [
    "#### Формирование алгоритма МНК"
   ]
  },
  {
   "cell_type": "markdown",
   "metadata": {},
   "source": [
    "Методу наименьших квадратов соответствует квадратичная функция потерь. \n",
    "Для объекта с одним выходом эта функция имеет вид:\n",
    "\\begin{equation}F(\\epsilon(i,\\vec{\\tilde{b}}))=(y(i) - \\tilde{y}(i, \\vec{\\tilde{b}}))^2\\end{equation}\n",
    "Критерий качества в векторной форме:\n",
    "\\begin{equation}J(\\vec{\\tilde{b}})=( \\vec{y} -\\vec{\\tilde{y}})^T(\\vec{y}-\\vec{\\tilde{y}}) \\end{equation}\n",
    "\n",
    "Для нахождения оценки параметров, обеспечивающей минимум критерия качества, т.е. \n",
    "$\\frac{\\partial J(\\vec{\\tilde{b}})}{\\partial \\vec{\\tilde{b}}}\\biggr\\rvert_{\\vec{\\tilde{b}} = \\vec{\\hat{b}_{LS}}} = 0$\n",
    "необходимо решить уравнение:\n",
    "$\\vec{\\hat{b}_{LS}}=(U^TRU)^{-1}U^TR\\vec{y}$"
   ]
  },
  {
   "cell_type": "markdown",
   "metadata": {},
   "source": [
    "Сформируйте матрицу $U$, состоящую из \"входов\" $U_i$, найдите оценку параметров объекта по МНК и ковариационную матрицу ошибок оценки.\n",
    "Используйте функционал библиотеки numpy для работы с матрицами."
   ]
  },
  {
   "cell_type": "code",
   "execution_count": 9,
   "metadata": {},
   "outputs": [
    {
     "name": "stdout",
     "output_type": "stream",
     "text": [
      "[[ 1.48252104e+01 -3.18997847e-01  3.10644718e-03  5.99113020e+00\n",
      "  -2.20162330e+00]]\n",
      "3978.2711650865676 3977.295529545557\n",
      "1.000245301243964\n"
     ]
    }
   ],
   "source": [
    "# Ваш код здесь\n",
    "R=np.eye(N)\n",
    "y0=np.asmatrix(y-np.mean(y))\n",
    "U1_avg=np.mean(U1)\n",
    "U2_avg=np.mean(U2)\n",
    "U3_avg=np.mean(U3)\n",
    "U4_avg=np.mean(U4)\n",
    "U1=np.asmatrix(U1)\n",
    "U1=U1.getT()\n",
    "U2=np.asmatrix(U2)\n",
    "U2=U2.getT()\n",
    "U3=np.asmatrix(U3)\n",
    "U3=U3.getT()\n",
    "U4=np.asmatrix(U4)\n",
    "U4=U4.getT()\n",
    "\n",
    "U_m=np.concatenate((np.asmatrix(np.ones(N)).getT(),U1,U2,U3,U4),axis=1)\n",
    "\n",
    "U1=U1-np.mean(U1)\n",
    "U2=U2-np.mean(U2)\n",
    "U3=U3-np.mean(U3)\n",
    "U4=U4-np.mean(U4)\n",
    "\n",
    "U=np.concatenate((U1,U2,U3,U4),axis=1)\n",
    "b_i=(U.getT()*R*U).getI()*U.getT()*R*y0.getT()\n",
    "b_0=np.mean(y)-b_i.item((0,0))*np.mean(U1)-b_i.item((1,0))*np.mean(U2)- b_i.item((2,0))*np.mean(U3)- b_i.item((3,0))*np.mean(U4)\n",
    "B=np.insert(b_i, 0, b_0)\n",
    "var_y = np.var(y)\n",
    "var_model = np.var(B*U_m.getT())\n",
    "print(B)\n",
    "print(var_y, var_model)\n",
    "if var_y<=var_model:\n",
    "    print(var_model/var_y)\n",
    "else:\n",
    "    print(var_y/var_model)"
   ]
  },
  {
   "cell_type": "markdown",
   "metadata": {},
   "source": [
    "#### По реализованному алгоритму МНК  должно быть исследовано следующее:"
   ]
  },
  {
   "cell_type": "markdown",
   "metadata": {},
   "source": [
    "1) зависимость точности оценки параметров $b_0, b_1, b_2, b_3, b_4$ от дисперсии шума измерений $\\sigma_\\eta^2$  и дисперсии «входных» параметров $\\sigma_u^2$.\n",
    "\n",
    "2) влияние математического ожидания шума измерений μη на точность оценки\n",
    "\n",
    "3) проверка по критерию Фишера адекватности модели тестовому объекту.\n",
    "\n",
    "Указания к проведению данных пунктов находятся в лаборатоном практикуме."
   ]
  },
  {
   "cell_type": "markdown",
   "metadata": {
    "collapsed": true
   },
   "source": [
    "**После выполнения лабораторной работы необходимо написать краткий отчет, который должен включать в себя:**\n",
    "    - титульный лист\n",
    "    - оглавление\n",
    "    - описание моделируемого объекта\n",
    "    - математические выкладки о применении МНК для оценки параметров моделируемого объекта\n",
    "    - выводы о зависимости точности оценки параметров b0, b1, b2, b3, b4 от дисперсии шума измерений и дисперсии «входных» параметров\n",
    "    - влияние математического ожидания шума измерений на точность оценки\n",
    "    - проверку адекватности модели тестовому объекту по критерию Фишера."
   ]
  },
  {
   "cell_type": "code",
   "execution_count": null,
   "metadata": {},
   "outputs": [],
   "source": []
  }
 ],
 "metadata": {
  "kernelspec": {
   "display_name": "Python 3",
   "language": "python",
   "name": "python3"
  },
  "language_info": {
   "codemirror_mode": {
    "name": "ipython",
    "version": 3
   },
   "file_extension": ".py",
   "mimetype": "text/x-python",
   "name": "python",
   "nbconvert_exporter": "python",
   "pygments_lexer": "ipython3",
   "version": "3.7.0"
  }
 },
 "nbformat": 4,
 "nbformat_minor": 2
}
