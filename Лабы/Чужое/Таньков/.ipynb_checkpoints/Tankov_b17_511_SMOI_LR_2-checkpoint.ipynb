{
 "cells": [
  {
   "cell_type": "markdown",
   "metadata": {},
   "source": [
    "# Лабораторная работа №2\n",
    "### Оценивание параметров линейного стационарного объекта методом наименьших квадратов – рекуррентная форма"
   ]
  },
  {
   "cell_type": "markdown",
   "metadata": {},
   "source": [
    "Пусть мы опять рассматриваем линейный регрессионный объект: \n",
    "$$ \\large y(i)=с_{0}+с_{1}u_{1}(i)+...+с_{4}u_{4}(i)+\\eta(i) \\quad (1), $$  \n",
    "\n",
    "где шум $ \\large \\eta(i)$, действующий на объект, принадлежит классу нормального распределения с параметрами: $\\large N(0, 0.5)$.\n",
    "\n",
    "> Параметры c0, c1, ... выбираются в соотвествии с вашим вариантом."
   ]
  },
  {
   "cell_type": "code",
   "execution_count": 1,
   "metadata": {},
   "outputs": [],
   "source": [
    "# параметры объекта \n",
    "C0=2\n",
    "C1=5\n",
    "C2=7\n",
    "C3=-12.7\n",
    "C4=4.3"
   ]
  },
  {
   "cell_type": "code",
   "execution_count": 2,
   "metadata": {},
   "outputs": [],
   "source": [
    "# количество измерений\n",
    "N=200"
   ]
  },
  {
   "cell_type": "markdown",
   "metadata": {},
   "source": [
    "Представим, что наблюдения входов и выходов объекта нам поступают последовательно, и мы хотим не ждать какое-то время и копить измерения, а хотим получать оценку параметров объекта  $ \\large \\vec{\\hat{c}_{LS}} $  сразу, используя в качестве старта свое начальное приближение $\\large \\vec{\\hat{c}}(0)$."
   ]
  },
  {
   "cell_type": "markdown",
   "metadata": {},
   "source": [
    "Для получения оценок таким образом подходит **рекуррентный МНК**. \n",
    "При идентификация параметров линейного регрессионного объекта соотношения для рекуррентного МНК выглядят следующим образом:\n",
    "$$ \\large \\vec{\\hat{c}_{LS}}(i+1) = \\vec{\\hat{c}_{LS}}(i) + K(i+1)(y(i)-\\vec{u}^{T}(i)\\vec{\\hat{c}_{LS}}(i)) $$\n",
    "$$ $$\n",
    "$$ \\large K(i+1) = P(i)\\vec{u}(i)\\frac{1}{\\frac{1}{r(i)}+\\vec{u}^{T}(i)P(i)\\vec{u}(i)} $$\n",
    "$$ $$\n",
    "$$ \\large P(i+1) = P(i) - \\frac{1}{\\frac{1}{r(i)}+\\vec{u}^{T}(i)P(i)\\vec{u}(i)}P(i)\\vec{u}(i)\\vec{u}^{T}(i)P(i) $$"
   ]
  },
  {
   "cell_type": "markdown",
   "metadata": {},
   "source": [
    "Для запуска рекуррентного процесса необходимо задать начальные приближения $\\large \\vec{\\hat{c}}_{LS}(0)$ и $\\large P(0)$. Задать их можно разными способами, но будем пользоваться следующим подходом:\n",
    "> чем хуже начальные приближения $\\vec{\\hat{c}_{LS}}(0)$, тем больше должна быть матрица $P(0)$. Матрицу $P(0)$ будем задавать в виде: $P(0)= \\lambda I $, где $\\lambda$ — некоторое число, выбираемое в соответствии с тем, насколько плохи начальные приближения, $I$ - единичная матрица."
   ]
  },
  {
   "cell_type": "markdown",
   "metadata": {},
   "source": [
    "### Зададим параметры входов объекта и смоделируем его выход"
   ]
  },
  {
   "cell_type": "code",
   "execution_count": 3,
   "metadata": {},
   "outputs": [],
   "source": [
    "import numpy as np\n",
    "import matplotlib.pyplot as plt\n",
    "%matplotlib inline"
   ]
  },
  {
   "cell_type": "markdown",
   "metadata": {},
   "source": [
    "Задайте параметры входов объекта и шума, действующего на него:"
   ]
  },
  {
   "cell_type": "code",
   "execution_count": 4,
   "metadata": {},
   "outputs": [],
   "source": [
    "#Ваш код здесь\n",
    "Avg_U1=0\n",
    "Var_U1=50\n",
    "Avg_U2=0\n",
    "Var_U2=50\n",
    "Avg_U3=0\n",
    "Var_U3=50\n",
    "Avg_U4=0\n",
    "Var_U4=50\n",
    "\n",
    "#Ваш код здесь\n",
    "Avg_noise=0\n",
    "Var_noise=0.5"
   ]
  },
  {
   "cell_type": "markdown",
   "metadata": {},
   "source": [
    "Генерация значений входов и шума:"
   ]
  },
  {
   "cell_type": "code",
   "execution_count": 5,
   "metadata": {},
   "outputs": [],
   "source": [
    "#Ваш код здесь\n",
    "U1=np.random.normal(Avg_U1, Var_U1, N)\n",
    "U2=np.random.normal(Avg_U2, Var_U2, N)\n",
    "U3=np.random.normal(Avg_U3, Var_U3, N)\n",
    "U4=np.random.normal(Avg_U4, Var_U4, N)\n",
    "Noise=np.random.normal(Avg_noise, Var_noise, N)"
   ]
  },
  {
   "cell_type": "code",
   "execution_count": 6,
   "metadata": {},
   "outputs": [],
   "source": [
    "# моделирование выхода объекта\n",
    "y=C0+C1*U1+C2*U2+C3*U3+C4*U4+Noise"
   ]
  },
  {
   "cell_type": "code",
   "execution_count": 7,
   "metadata": {},
   "outputs": [],
   "source": [
    "class RecurrentMLS:\n",
    "    \n",
    "    def __init__(self, lamda):\n",
    "        self.lamda = lamda\n",
    "        self.c_estim_recMLS = []\n",
    "        \n",
    "    def fit(self, U, y, c0):\n",
    "        c = c0\n",
    "        self.c_estim_recMLS.append(c0)\n",
    "        I = np.eye(5)\n",
    "        P = self.lamda * I\n",
    "        for i in range(0, N):\n",
    "            eps = y[i] - c[0, 0] - c[1, 0] * U[0][i] - c[2, 0] * U[1][i] - c[3, 0] * U[2][i] - c[4, 0] * U[3][i]\n",
    "            u = np.matrix([1, U[0][i], U[1][i], U[2][i], U[3][i]]).T  \n",
    "            K = P * u / (1 + u.T * P * u)\n",
    "            c = c + K * eps\n",
    "            P = P - P * u * u.T * P / (1 + u.T * P * u)\n",
    "            self.c_estim_recMLS.append(c)\n",
    "        \n",
    "    def get_coefs(self):\n",
    "        return self.c_estim_recMLS\n",
    "        \n",
    "        \n",
    "def smooth_errors(c_estim_recMLS, c):\n",
    "    ERR = []\n",
    "    for i in range(10, N):\n",
    "        err = 0\n",
    "        for j in range(1,11):\n",
    "            for k in range(5):\n",
    "                err += pow(c_estim_recMLS[i - j][k, 0] - c[k],2)\n",
    "        err = err/10\n",
    "        err = pow(err,0.5)\n",
    "        ERR.append(err)\n",
    "    return(ERR)\n",
    "        "
   ]
  },
  {
   "cell_type": "code",
   "execution_count": 14,
   "metadata": {
    "scrolled": false
   },
   "outputs": [
    {
     "name": "stdout",
     "output_type": "stream",
     "text": [
      "[[0.37004611]]\n",
      "[[5.91754822e-05]]\n",
      "[[0.00257275]]\n",
      "[[0.0003911]]\n",
      "[[0.00013854]]\n",
      "[[0.02738818]]\n",
      "-----------\n",
      "[[0.0163836]]\n",
      "[[0.00043306]]\n",
      "[[0.00172596]]\n",
      "[[0.00102619]]\n",
      "[[0.00021713]]\n",
      "[[5.4537818e-05]]\n",
      "-----------\n",
      "[[0.0208126]]\n",
      "[[0.00048449]]\n",
      "[[0.00163674]]\n",
      "[[0.00109508]]\n",
      "[[0.00025518]]\n",
      "[[8.74684499e-05]]\n",
      "-----------\n",
      "[[0.02455147]]\n",
      "[[0.00048966]]\n",
      "[[0.00162777]]\n",
      "[[0.00110203]]\n",
      "[[0.00025901]]\n",
      "[[0.00012139]]\n",
      "-----------\n"
     ]
    },
    {
     "data": {
      "text/plain": [
       "<matplotlib.legend.Legend at 0x28407731610>"
      ]
     },
     "execution_count": 14,
     "metadata": {},
     "output_type": "execute_result"
    },
    {
     "data": {
      "image/png": "[encoded data removed]",
      "text/plain": [
       "<Figure size 864x576 with 1 Axes>"
      ]
     },
     "metadata": {
      "needs_background": "light"
     },
     "output_type": "display_data"
    }
   ],
   "source": [
    "\n",
    "rmnk_1 = RecurrentMLS(0.1)\n",
    "rmnk_1.fit([U1, U2, U3, U4], y, np.matrix([10, 10, 10, 10, 10]).T)\n",
    "coefs_rmnk_1 = rmnk_1.get_coefs()\n",
    "err_rmnk_1 = smooth_errors(coefs_rmnk_1, [C0, C1, C2, C3, C4])\n",
    "print(abs(rmnk_1.get_coefs()[200][0] - C0))\n",
    "print(abs(rmnk_1.get_coefs()[200][1] - C1))\n",
    "print(abs(rmnk_1.get_coefs()[200][2] - C2))\n",
    "print(abs(rmnk_1.get_coefs()[200][3] - C3))\n",
    "print(abs(rmnk_1.get_coefs()[200][4] - C4))\n",
    "difference = ((rmnk_1.get_coefs()[200][0] - C0)**2 + (rmnk_1.get_coefs()[200][1] - C1)**2 + (rmnk_1.get_coefs()[200][2] - C2)**2 + (rmnk_1.get_coefs()[200][3] - C3)**2 + (rmnk_1.get_coefs()[200][4] - C4)**2) / 5\n",
    "print(difference)\n",
    "print(\"-----------\")\n",
    "\n",
    "rmnk_2 = RecurrentMLS(1)\n",
    "rmnk_2.fit([U1, U2, U3, U4], y, np.matrix([10, 10, 10, 10, 10]).T)\n",
    "coefs_rmnk_2 = rmnk_2.get_coefs()\n",
    "err_rmnk_2 = smooth_errors(coefs_rmnk_2, [C0, C1, C2, C3, C4])\n",
    "print(abs(rmnk_2.get_coefs()[200][0] - C0))\n",
    "print(abs(rmnk_2.get_coefs()[200][1] - C1))\n",
    "print(abs(rmnk_2.get_coefs()[200][2] - C2))\n",
    "print(abs(rmnk_2.get_coefs()[200][3] - C3))\n",
    "print(abs(rmnk_2.get_coefs()[200][4] - C4))\n",
    "difference = ((rmnk_2.get_coefs()[200][0] - C0)**2 + (rmnk_2.get_coefs()[200][1] - C1)**2 + (rmnk_2.get_coefs()[200][2] - C2)**2 + (rmnk_2.get_coefs()[200][3] - C3)**2 + (rmnk_2.get_coefs()[200][4] - C4)**2) / 5\n",
    "print(difference)\n",
    "print(\"-----------\")\n",
    "\n",
    "rmnk_3 = RecurrentMLS(10)\n",
    "rmnk_3.fit([U1, U2, U3, U4], y, np.matrix([10, 10, 10, 10, 10]).T)\n",
    "coefs_rmnk_3 = rmnk_3.get_coefs()\n",
    "err_rmnk_3 = smooth_errors(coefs_rmnk_3, [C0, C1, C2, C3, C4])\n",
    "print(abs(rmnk_3.get_coefs()[200][0] - C0))\n",
    "print(abs(rmnk_3.get_coefs()[200][1] - C1))\n",
    "print(abs(rmnk_3.get_coefs()[200][2] - C2))\n",
    "print(abs(rmnk_3.get_coefs()[200][3] - C3))\n",
    "print(abs(rmnk_3.get_coefs()[200][4] - C4))\n",
    "difference = ((rmnk_3.get_coefs()[200][0] - C0)**2 + (rmnk_3.get_coefs()[200][1] - C1)**2 + (rmnk_3.get_coefs()[200][2] - C2)**2 + (rmnk_3.get_coefs()[200][3] - C3)**2 + (rmnk_3.get_coefs()[200][4] - C4)**2) / 5\n",
    "print(difference)\n",
    "print(\"-----------\")\n",
    "\n",
    "rmnk_4 = RecurrentMLS(100)\n",
    "rmnk_4.fit([U1, U2, U3, U4], y, np.matrix([10, 10, 10, 10, 10]).T)\n",
    "coefs_rmnk_4 = rmnk_4.get_coefs()\n",
    "err_rmnk_4 = smooth_errors(coefs_rmnk_4, [C0, C1, C2, C3, C4])\n",
    "print(abs(rmnk_4.get_coefs()[200][0] - C0))\n",
    "print(abs(rmnk_4.get_coefs()[200][1] - C1))\n",
    "print(abs(rmnk_4.get_coefs()[200][2] - C2))\n",
    "print(abs(rmnk_4.get_coefs()[200][3] - C3))\n",
    "print(abs(rmnk_4.get_coefs()[200][4] - C4))\n",
    "difference = ((rmnk_4.get_coefs()[200][0] - C0)**2 + (rmnk_4.get_coefs()[200][1] - C1)**2 + (rmnk_4.get_coefs()[200][2] - C2)**2 + (rmnk_4.get_coefs()[200][3] - C3)**2 + (rmnk_4.get_coefs()[200][4] - C4)**2) / 5\n",
    "print(difference)\n",
    "print(\"-----------\")\n",
    "\n",
    "fig, ax = plt.subplots()\n",
    "x = [x for x in range(10, N)]\n",
    "ax.plot(x, err_rmnk_1, label='λ = 0.1', color = 'g')\n",
    "ax.plot(x, err_rmnk_2, label='λ = 1', color = 'b')\n",
    "ax.plot(x, err_rmnk_3, label='λ = 10', color = 'y')\n",
    "ax.plot(x, err_rmnk_4, label='λ = 100', color = 'r')\n",
    "plt.title(\"График изменения сглаженной ошибки оценок для c(0)=[10, 10, 10, 10, 10]\")\n",
    "fig.set_figwidth(12)\n",
    "fig.set_figheight(8)\n",
    "plt.xlabel(\"номер итерации\")\n",
    "plt.ylabel(\"сглаженная ошибка оценки\")\n",
    "plt.legend()"
   ]
  },
  {
   "cell_type": "code",
   "execution_count": null,
   "metadata": {},
   "outputs": [],
   "source": []
  },
  {
   "cell_type": "markdown",
   "metadata": {},
   "source": [
    "### Оценивание параметров объекта с помощью рекуррентного МНК \n",
    "1. Создайте __class RecurrentMLS__ с методами: <br>\n",
    "\n",
    "    * в конструкторе класса небходимо задать:<br>\n",
    "     ` λ ` - параметр в формуле задания начального приближения матрицы P(0) = λ*I <br><br>\n",
    "\n",
    "    * __def fit(U, y, c0)__ - метод реализует алгоритм итерационного оценивания параметов объекта с использованием квадратичной функции потерь (см. описание выше):<br>\n",
    "         ```\n",
    "        Input:\n",
    "            U - матрица входов объекта, [X] = m x N\n",
    "            y - вектор выходов объекта, [y] = N\n",
    "            с0 - вектор начального приближения, [c0] = m+1\n",
    "         ```      \n",
    "    * __def get_coefs()__ - метод возвращает массив коэффициентов оценок вектора параметров объекта, получаемого на каждом новом шаге измерений:\n",
    "        ```\n",
    "        Output:\n",
    "            c_estim_recMLS - массив оценок параметров объекта, полученный в результате работы метода fit.                   ```\n",
    "2. Реализуйте функцию __smooth_errors(c_estim, c_true)__  , вычисляющую сглаженную ошибку оценки по 10 измерениям:\n",
    "$$err(i) = \\sqrt{\\frac{1}{10}\\sum_{k=0}^{9}\\sum_{j=0}^{m} (\\hat{c_j}(i-k)-c_j))^2}$$, где i - номер итерации/измерения, k - номер итерации/измерения, j - порядковый номер параметра объекта.\n",
    "         Input: \n",
    "             c_estim - массив оценок параметров объекта, [c_estim] = m+1 x N\n",
    "             c_true - вектор истинных параметров объекта, [c_true] = m+1 \n",
    "         Output:\n",
    "             err - массив сглаженных ошибок оценки\n",
    "3. Проведите анализ работы (скорость сходимости, точность оценки, см. SMOI_LR_2_description.pdf) алгоритма рекуррентного МНК для получения оценок параметров в зависимости от разничных начальных приближений значений параметров объекта и выбора гиперпараметра λ. Постройте графики сходимости ошибки оценки в зависимотси от номера итерации, оформите отчет по лабораторной работе."
   ]
  },
  {
   "cell_type": "code",
   "execution_count": null,
   "metadata": {},
   "outputs": [],
   "source": []
  }
 ],
 "metadata": {
  "kernelspec": {
   "display_name": "Python 3",
   "language": "python",
   "name": "python3"
  },
  "language_info": {
   "codemirror_mode": {
    "name": "ipython",
    "version": 3
   },
   "file_extension": ".py",
   "mimetype": "text/x-python",
   "name": "python",
   "nbconvert_exporter": "python",
   "pygments_lexer": "ipython3",
   "version": "3.8.5"
  }
 },
 "nbformat": 4,
 "nbformat_minor": 2
}
