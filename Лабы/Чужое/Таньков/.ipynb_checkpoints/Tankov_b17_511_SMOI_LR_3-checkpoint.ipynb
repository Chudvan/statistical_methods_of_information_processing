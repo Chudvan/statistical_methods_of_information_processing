{
 "cells": [
  {
   "cell_type": "markdown",
   "metadata": {},
   "source": [
    "# Лабораторная работа №3\n",
    "### Оценивание параметров нелинейного объекта методом наименьших квадратов"
   ]
  },
  {
   "cell_type": "markdown",
   "metadata": {},
   "source": [
    "Уравнение исследуемого в лабораторной работе объекта имеет вид:\n",
    "    \\begin{equation}y=f(t,A,B,C,D,E)=A\\exp(Bt)\\cos(Ct+D)+E+\\eta\\end{equation}\n",
    "Уравнение модели объекта:\n",
    "    \\begin{equation}\\tilde{y}=\\tilde{A}\\exp(\\tilde{B}t)\\cos(\\tilde{C}t+\\tilde{D})+\\tilde{E}\\end{equation}\n",
    "Видно, что объект нелинеен по параметрам $A,B,C,D,E$. \n",
    "Данные параметры подлежат оцениванию, $t$ — единственная предикторная переменная, а $\\eta$ — случайная ошибка, удовлетворяющая\n",
    "обычным предположениям: $ E(\\eta) = 0, D(\\eta)= \\sigma^2 $.\n",
    "\n",
    "Найти оценки параметров $A,B,C,D,E$ предлагается с помощью применения МНК к линеаризованному объекту."
   ]
  },
  {
   "cell_type": "markdown",
   "metadata": {},
   "source": [
    "Для линеаризации объекта нужны частные производные от уравнения модели объекта по каждому из параметров. "
   ]
  },
  {
   "cell_type": "markdown",
   "metadata": {},
   "source": [
    "Вычислите эти частные производные и запишите уравнение модели линеаризованного объекта:\n",
    "\n",
    "$$\\frac{\\partial y}{\\partial A} = ... $$\n",
    "$$\\frac{\\partial y}{\\partial B} = ... $$ \n",
    "$$\\frac{\\partial y}{\\partial C} = ... $$\n",
    "$$\\frac{\\partial y}{\\partial D} = ... $$\n",
    "$$\\frac{\\partial y}{\\partial E} = ... $$\n",
    "\n",
    "$$y= ... $$"
   ]
  },
  {
   "cell_type": "markdown",
   "metadata": {},
   "source": [
    "Теперь перейдем к обработке измерений, полученных c объекта.\n",
    "Подключим необходимые для работы библиотеки и считаем данные из файла с измерениями."
   ]
  },
  {
   "cell_type": "code",
   "execution_count": 1,
   "metadata": {},
   "outputs": [],
   "source": [
    "import numpy as np"
   ]
  },
  {
   "cell_type": "code",
   "execution_count": 2,
   "metadata": {},
   "outputs": [
    {
     "name": "stdout",
     "output_type": "stream",
     "text": [
      "Populating the interactive namespace from numpy and matplotlib\n"
     ]
    }
   ],
   "source": [
    "import matplotlib.pyplot as plt\n",
    "%pylab inline"
   ]
  },
  {
   "cell_type": "code",
   "execution_count": 210,
   "metadata": {},
   "outputs": [
    {
     "name": "stdout",
     "output_type": "stream",
     "text": [
      "<class 'int'>\n"
     ]
    }
   ],
   "source": [
    "#Если необходимо перевести время в другую единицу измерения\n",
    "#data['t']=data['t']/1000 # перевод колонки t в мсек\n",
    "T = [0]*100\n",
    "U = [0]*100\n",
    "import openpyxl\n",
    "wb = openpyxl.load_workbook(filename = r\"Tankov.xlsx\")\n",
    "sheet = wb['Tankov']\n",
    "for i in range(100):\n",
    "    T[i] = sheet.cell(row=i+2, column=1).value\n",
    "    U[i] = sheet.cell(row=i+2, column=2).value\n",
    "print(type(T[10]))"
   ]
  },
  {
   "cell_type": "markdown",
   "metadata": {},
   "source": [
    "Построим зависимость измеpений от времени:"
   ]
  },
  {
   "cell_type": "code",
   "execution_count": 211,
   "metadata": {},
   "outputs": [
    {
     "data": {
      "image/png": "[encoded data removed]",
      "text/plain": [
       "<Figure size 432x288 with 1 Axes>"
      ]
     },
     "metadata": {
      "needs_background": "light"
     },
     "output_type": "display_data"
    }
   ],
   "source": [
    "plt.plot(T, U)\n",
    "plt.grid(True)"
   ]
  },
  {
   "cell_type": "markdown",
   "metadata": {},
   "source": [
    "Исходя из графика и уравнения объекта, подберите начальное приближение:\n",
    "$A_{0},B_{0},C_{0},D_{0},E_{0}$\n",
    "\n",
    "ПРИМЕЧАНИЕ: если в процессе оценивания параметров МНК разойдется, то возможно стоит выбрать более точное начальное приближение."
   ]
  },
  {
   "cell_type": "code",
   "execution_count": 222,
   "metadata": {},
   "outputs": [],
   "source": [
    "#Ваш код здесь\n",
    "A_0 = 1.4117\n",
    "B_0 = 0.028\n",
    "C_0= 2 * 3.14 / 15\n",
    "D_0 = 3.14 / 2\n",
    "E_0 = -0.1\n"
   ]
  },
  {
   "cell_type": "markdown",
   "metadata": {},
   "source": [
    "Определите функции, возвращающие значения частных производных:"
   ]
  },
  {
   "cell_type": "code",
   "execution_count": 223,
   "metadata": {},
   "outputs": [],
   "source": [
    "#Ваш код здесь\n",
    "def dFdA(t, A0, B0, C0, D0, E0):\n",
    "    y_A = np.exp(-B0*t)*np.cos(C0*t+D0)\n",
    "    return y_A\n",
    "\n",
    "def dFdB(t, A0, B0, C0, D0, E0):\n",
    "    y_B = t*A0*np.exp(-B0*t)*np.cos(C0*t+D0)\n",
    "    return y_B\n",
    "\n",
    "def dFdC(t, A0, B0, C0, D0, E0):\n",
    "    y_C = -A0*t*np.exp(-B0*t)*np.sin(C0*t+D0)\n",
    "    return y_C\n",
    "\n",
    "def dFdD(t, A0, B0, C0, D0, E0):\n",
    "    y_D = -A0*np.exp(-B0*t)*np.sin(C0*t+D0)\n",
    "    return y_D\n",
    "\n",
    "def dFdE(t, A0, B0, C0, D0, E0):\n",
    "    return 1  \n",
    "\n",
    "def Y(t, A0, B0, C0, D0, E0):\n",
    "    return (A0*np.exp(-B0*t)*np.cos(C0*t+D0)+E0)\n"
   ]
  },
  {
   "cell_type": "markdown",
   "metadata": {},
   "source": [
    "Реализуйте МНК для линеаризованного объекта и найдите оценку параметров: $\\tilde{A},\\tilde{B},\\tilde{C},\\tilde{D},\\tilde{E}$"
   ]
  },
  {
   "cell_type": "code",
   "execution_count": 224,
   "metadata": {},
   "outputs": [
    {
     "name": "stdout",
     "output_type": "stream",
     "text": [
      "итерация  0\n",
      "A =  [[0.81474349]]\n",
      "B =  [[8.57068979e-05]]\n",
      "C =  [[0.41454837]]\n",
      "D =  [[2.72979752]]\n",
      "E =  [[-0.167395]]\n",
      "итерация  1\n",
      "A =  [[1.26606996]]\n",
      "B =  [[-0.02292605]]\n",
      "C =  [[0.41218544]]\n",
      "D =  [[3.23012949]]\n",
      "E =  [[-0.18639534]]\n",
      "итерация  2\n",
      "A =  [[0.47509692]]\n",
      "B =  [[-0.02744436]]\n",
      "C =  [[0.41195993]]\n",
      "D =  [[3.27867769]]\n",
      "E =  [[-0.19103354]]\n",
      "итерация  3\n",
      "A =  [[0.3466243]]\n",
      "B =  [[-0.03605775]]\n",
      "C =  [[0.41119449]]\n",
      "D =  [[3.3955012]]\n",
      "E =  [[-0.18988724]]\n",
      "итерация  4\n",
      "A =  [[0.171686]]\n",
      "B =  [[-0.04174317]]\n",
      "C =  [[0.41020591]]\n",
      "D =  [[3.51239737]]\n",
      "E =  [[-0.18771242]]\n",
      "итерация  5\n",
      "A =  [[0.10148277]]\n",
      "B =  [[-0.04843857]]\n",
      "C =  [[0.40868163]]\n",
      "D =  [[3.68211468]]\n",
      "E =  [[-0.18687509]]\n",
      "итерация  6\n",
      "A =  [[0.05207636]]\n",
      "B =  [[-0.05418296]]\n",
      "C =  [[0.40694877]]\n",
      "D =  [[3.86714186]]\n",
      "E =  [[-0.18634165]]\n",
      "итерация  7\n",
      "A =  [[0.02853239]]\n",
      "B =  [[-0.06026956]]\n",
      "C =  [[0.40469627]]\n",
      "D =  [[4.1028671]]\n",
      "E =  [[-0.18630096]]\n",
      "итерация  8\n",
      "A =  [[0.01481315]]\n",
      "B =  [[-0.0660009]]\n",
      "C =  [[0.40210794]]\n",
      "D =  [[4.36995462]]\n",
      "E =  [[-0.18651006]]\n",
      "итерация  9\n",
      "A =  [[0.00793194]]\n",
      "B =  [[-0.07188415]]\n",
      "C =  [[0.39897004]]\n",
      "D =  [[4.6909927]]\n",
      "E =  [[-0.18686617]]\n",
      "итерация  10\n",
      "A =  [[0.00418371]]\n",
      "B =  [[-0.07765535]]\n",
      "C =  [[0.39538616]]\n",
      "D =  [[5.05539443]]\n",
      "E =  [[-0.18728811]]\n",
      "итерация  11\n",
      "A =  [[0.00225418]]\n",
      "B =  [[-0.08352859]]\n",
      "C =  [[0.3912481]]\n",
      "D =  [[5.47435596]]\n",
      "E =  [[-0.18770495]]\n",
      "итерация  12\n",
      "A =  [[0.00121978]]\n",
      "B =  [[-0.0894047]]\n",
      "C =  [[0.38665887]]\n",
      "D =  [[5.9375439]]\n",
      "E =  [[-0.18809113]]\n",
      "итерация  13\n",
      "A =  [[0.00067202]]\n",
      "B =  [[-0.09536397]]\n",
      "C =  [[0.3816416]]\n",
      "D =  [[6.44283045]]\n",
      "E =  [[-0.188427]]\n",
      "итерация  14\n",
      "A =  [[0.00037369]]\n",
      "B =  [[-0.10135423]]\n",
      "C =  [[0.37634269]]\n",
      "D =  [[6.97569901]]\n",
      "E =  [[-0.18871849]]\n",
      "итерация  15\n",
      "A =  [[0.00021004]]\n",
      "B =  [[-0.10738453]]\n",
      "C =  [[0.37085805]]\n",
      "D =  [[7.52673351]]\n",
      "E =  [[-0.18897469]]\n",
      "итерация  16\n",
      "A =  [[0.00011862]]\n",
      "B =  [[-0.11342048]]\n",
      "C =  [[0.36529413]]\n",
      "D =  [[8.08538729]]\n",
      "E =  [[-0.18920864]]\n",
      "итерация  17\n",
      "A =  [[6.72674858e-05]]\n",
      "B =  [[-0.11945889]]\n",
      "C =  [[0.35969418]]\n",
      "D =  [[8.64734475]]\n",
      "E =  [[-0.18942753]]\n",
      "итерация  18\n",
      "A =  [[3.82235059e-05]]\n",
      "B =  [[-0.1254898]]\n",
      "C =  [[0.35407967]]\n",
      "D =  [[9.21037198]]\n",
      "E =  [[-0.18963512]]\n",
      "итерация  19\n",
      "A =  [[2.17690122e-05]]\n",
      "B =  [[-0.13151621]]\n",
      "C =  [[0.34844449]]\n",
      "D =  [[9.77493656]]\n",
      "E =  [[-0.18983237]]\n",
      "итерация  20\n",
      "A =  [[1.24235122e-05]]\n",
      "B =  [[-0.13753852]]\n",
      "C =  [[0.34277909]]\n",
      "D =  [[10.34182077]]\n",
      "E =  [[-0.19001999]]\n",
      "Количество итераций =  21\n",
      "Сумма квадратов ошибок =  0\n",
      "Начальный параметр A =  1.4117        Новый параметр =  [[1.24235122e-05]]\n",
      "Начальный параметр B =  0.028        Новый параметр =  [[-0.13753852]]\n",
      "Начальный параметр C =  0.4186666666666667        Новый параметр =  [[0.34277909]]\n",
      "Начальный параметр D =  1.57        Новый параметр =  [[10.34182077]]\n",
      "Начальный параметр E =  -0.1        Новый параметр =  [[-0.19001999]]\n"
     ]
    }
   ],
   "source": [
    "#Ваш код здесь\n",
    "c_j1 = np.array([A_0, B_0, C_0, D_0, E_0])\n",
    "c_j = np.array([0]*5)\n",
    "c_j1.shape = (5, 1)\n",
    "c_j.shape = (5, 1)\n",
    "e = np.array(range(100), dtype = np.float)\n",
    "e.shape = (100, 1)\n",
    "j = 0\n",
    "\n",
    "while (np.abs(c_j1[0]-c_j[0])>0.00001) and (np.abs(c_j1[1]-c_j[1])>0.00001) and (np.abs(c_j1[2]-c_j[2])>0.00001) and (np.abs(c_j1[3]-c_j[3])>0.00001) and (np.abs(c_j1[4]-c_j[4])>0.00001):\n",
    "    Ksi = np.zeros((100, 5))\n",
    "    c_j = c_j1\n",
    "    for i in range(100):\n",
    "        e[i] = U[i] - Y(T[i], c_j[0], c_j[1], c_j[2], c_j[3], c_j[4])\n",
    "        Ksi[i][0]= dFdA(T[i], c_j[0], c_j[1], c_j[2], c_j[3], c_j[4])\n",
    "        Ksi[i][1]= dFdB(T[i], c_j[0], c_j[1], c_j[2], c_j[3], c_j[4])\n",
    "        Ksi[i][2]= dFdC(T[i], c_j[0], c_j[1], c_j[2], c_j[3], c_j[4])\n",
    "        Ksi[i][3]= dFdD(T[i], c_j[0], c_j[1], c_j[2], c_j[3], c_j[4])\n",
    "        Ksi[i][4]= dFdE(T[i], c_j[0], c_j[1], c_j[2], c_j[3], c_j[4])\n",
    "        \n",
    "    R=np.eye(100)\n",
    "    Ksi = np.asmatrix(Ksi)\n",
    "    e = np.asmatrix(e)\n",
    "    c_j1 = c_j + (Ksi.getT() * R * Ksi).getI() * Ksi.getT() * R * e\n",
    "    print(\"итерация \", j)\n",
    "    print(\"A = \", c_j1[0])\n",
    "    print(\"B = \", c_j1[1])\n",
    "    print(\"C = \", c_j1[2])\n",
    "    print(\"D = \", c_j1[3])\n",
    "    print(\"E = \", c_j1[4])\n",
    "    j = j + 1\n",
    "\n",
    "print(\"Количество итераций = \", j)\n",
    "print(\"Сумма квадратов ошибок = \", S) \n",
    "print(\"Начальный параметр A = \", A_0, \"       Новый параметр = \", c_j1[0])\n",
    "print(\"Начальный параметр B = \", B_0, \"       Новый параметр = \", c_j1[1])\n",
    "print(\"Начальный параметр C = \", C_0, \"       Новый параметр = \", c_j1[2])\n",
    "print(\"Начальный параметр D = \", D_0, \"       Новый параметр = \", c_j1[3])\n",
    "print(\"Начальный параметр E = \", E_0, \"       Новый параметр = \", c_j1[4])"
   ]
  },
  {
   "cell_type": "markdown",
   "metadata": {},
   "source": [
    "Постройте графики для исходных измерений и полученной модели объекта:"
   ]
  },
  {
   "cell_type": "code",
   "execution_count": 225,
   "metadata": {},
   "outputs": [
    {
     "data": {
      "image/png": "[encoded data removed]",
      "text/plain": [
       "<Figure size 432x288 with 1 Axes>"
      ]
     },
     "metadata": {
      "needs_background": "light"
     },
     "output_type": "display_data"
    }
   ],
   "source": [
    "#Ваш код здесь\n",
    "plt.plot(T, U, color='b')\n",
    "plt.grid(True)\n",
    "\n",
    "#График для полученной модели\n",
    "y = numpy.array(range(100), dtype = np.double)\n",
    "y.shape = (100,1) \n",
    "i=0\n",
    "for i in range(100):\n",
    "    y[i]=c_j1[0]*np.exp(-c_j1[1]*i)*np.cos(c_j1[2]*i+c_j1[3])+c_j1[4]\n",
    "    i=i+1\n",
    "plt.plot(T, y, color='r')\n",
    "plt.grid(True)"
   ]
  },
  {
   "cell_type": "markdown",
   "metadata": {},
   "source": [
    "Постройте график остатков и сделайте выводы о применимости линеаризации для оценки параметров нелинейных объектов:"
   ]
  },
  {
   "cell_type": "code",
   "execution_count": 226,
   "metadata": {},
   "outputs": [
    {
     "data": {
      "image/png": "[encoded data removed]",
      "text/plain": [
       "<Figure size 432x288 with 1 Axes>"
      ]
     },
     "metadata": {
      "needs_background": "light"
     },
     "output_type": "display_data"
    }
   ],
   "source": [
    "#Ваш код здесь\n",
    "#График для исходных измерений\n",
    "plt.plot(T, e, color='k')\n",
    "plt.grid(True)"
   ]
  },
  {
   "cell_type": "markdown",
   "metadata": {},
   "source": [
    "**После выполнения лабораторной работы необходимо написать краткий отчет, который должен включать в себя:**\n",
    "    - титульный лист\n",
    "    - описание моделируемого объекта\n",
    "    - математические выкладки о применении МНК для оценки параметров моделируемого объекта\n",
    "    - выводы о применимости линеаризации для оценки параметров нелинейных объектов"
   ]
  }
 ],
 "metadata": {
  "kernelspec": {
   "display_name": "Python 3",
   "language": "python",
   "name": "python3"
  },
  "language_info": {
   "codemirror_mode": {
    "name": "ipython",
    "version": 3
   },
   "file_extension": ".py",
   "mimetype": "text/x-python",
   "name": "python",
   "nbconvert_exporter": "python",
   "pygments_lexer": "ipython3",
   "version": "3.8.5"
  }
 },
 "nbformat": 4,
 "nbformat_minor": 2
}
