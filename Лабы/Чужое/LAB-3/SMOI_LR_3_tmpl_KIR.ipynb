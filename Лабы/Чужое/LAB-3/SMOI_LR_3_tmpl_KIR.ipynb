{
 "cells": [
  {
   "cell_type": "markdown",
   "metadata": {},
   "source": [
    "# Лабораторная работа №3\n",
    "### Оценивание параметров нелинейного объекта методом наименьших квадратов"
   ]
  },
  {
   "cell_type": "markdown",
   "metadata": {},
   "source": [
    "Уравнение исследуемого в лабораторной работе объекта имеет вид:\n",
    "    \\begin{equation}y=f(t,A,B,C,D,E)=A\\exp(Bt)\\cos(Ct+D)+E+\\eta\\end{equation}\n",
    "Уравнение модели объекта:\n",
    "    \\begin{equation}\\tilde{y}=\\tilde{A}\\exp(\\tilde{B}t)\\cos(\\tilde{C}t+\\tilde{D})+\\tilde{E}\\end{equation}\n",
    "Видно, что объект нелинеен по параметрам $A,B,C,D,E$. \n",
    "Данные параметры подлежат оцениванию, $t$ — единственная предикторная переменная, а $\\eta$ — случайная ошибка, удовлетворяющая\n",
    "обычным предположениям: $ E(\\eta) = 0, D(\\eta)= \\sigma^2 $.\n",
    "\n",
    "Найти оценки параметров $A,B,C,D,E$ предлагается с помощью применения МНК к линеаризованному объекту."
   ]
  },
  {
   "cell_type": "markdown",
   "metadata": {},
   "source": [
    "Для линеаризации объекта нужны частные производные от уравнения модели объекта по каждому из параметров. "
   ]
  },
  {
   "cell_type": "markdown",
   "metadata": {},
   "source": [
    "Вычислите эти частные производные и запишите уравнение модели линеаризованного объекта:\n",
    "\n",
    "$$\\frac{\\partial y}{\\partial A} = ... $$\n",
    "$$\\frac{\\partial y}{\\partial B} = ... $$ \n",
    "$$\\frac{\\partial y}{\\partial C} = ... $$\n",
    "$$\\frac{\\partial y}{\\partial D} = ... $$\n",
    "$$\\frac{\\partial y}{\\partial E} = ... $$\n",
    "\n",
    "$$y= ... $$"
   ]
  },
  {
   "cell_type": "markdown",
   "metadata": {},
   "source": [
    "Теперь перейдем к обработке измерений, полученных c объекта.\n",
    "Подключим необходимые для работы библиотеки и считаем данные из файла с измерениями."
   ]
  },
  {
   "cell_type": "code",
   "execution_count": 1,
   "metadata": {},
   "outputs": [],
   "source": [
    "import numpy as np\n",
    "import csv"
   ]
  },
  {
   "cell_type": "code",
   "execution_count": 2,
   "metadata": {},
   "outputs": [
    {
     "name": "stdout",
     "output_type": "stream",
     "text": [
      "Populating the interactive namespace from numpy and matplotlib\n"
     ]
    }
   ],
   "source": [
    "import matplotlib.pyplot as plt\n",
    "%pylab inline"
   ]
  },
  {
   "cell_type": "code",
   "execution_count": 3,
   "metadata": {},
   "outputs": [
    {
     "ename": "ModuleNotFoundError",
     "evalue": "No module named 'pandas'",
     "output_type": "error",
     "traceback": [
      "\u001b[0;31m---------------------------------------------------------------------------\u001b[0m",
      "\u001b[0;31mModuleNotFoundError\u001b[0m                       Traceback (most recent call last)",
      "\u001b[0;32m<ipython-input-3-7dd3504c366f>\u001b[0m in \u001b[0;36m<module>\u001b[0;34m\u001b[0m\n\u001b[0;32m----> 1\u001b[0;31m \u001b[0;32mimport\u001b[0m \u001b[0mpandas\u001b[0m \u001b[0;32mas\u001b[0m \u001b[0mpd\u001b[0m\u001b[0;34m\u001b[0m\u001b[0;34m\u001b[0m\u001b[0m\n\u001b[0m",
      "\u001b[0;31mModuleNotFoundError\u001b[0m: No module named 'pandas'"
     ]
    }
   ],
   "source": [
    "import pandas as pd"
   ]
  },
  {
   "cell_type": "code",
   "execution_count": 4,
   "metadata": {},
   "outputs": [],
   "source": [
    "filename='Slesarev.csv'"
   ]
  },
  {
   "cell_type": "code",
   "execution_count": 5,
   "metadata": {},
   "outputs": [
    {
     "ename": "NameError",
     "evalue": "name 'pd' is not defined",
     "output_type": "error",
     "traceback": [
      "\u001b[0;31m---------------------------------------------------------------------------\u001b[0m",
      "\u001b[0;31mNameError\u001b[0m                                 Traceback (most recent call last)",
      "\u001b[0;32m<ipython-input-5-1fc9fababa27>\u001b[0m in \u001b[0;36m<module>\u001b[0;34m\u001b[0m\n\u001b[0;32m----> 1\u001b[0;31m \u001b[0mdata\u001b[0m \u001b[0;34m=\u001b[0m \u001b[0mpd\u001b[0m\u001b[0;34m.\u001b[0m\u001b[0mread_csv\u001b[0m\u001b[0;34m(\u001b[0m\u001b[0mfilename\u001b[0m\u001b[0;34m,\u001b[0m \u001b[0msep\u001b[0m\u001b[0;34m=\u001b[0m\u001b[0;34m';'\u001b[0m\u001b[0;34m,\u001b[0m\u001b[0mheader\u001b[0m\u001b[0;34m=\u001b[0m\u001b[0;32mNone\u001b[0m\u001b[0;34m,\u001b[0m \u001b[0mnames\u001b[0m\u001b[0;34m=\u001b[0m\u001b[0;34m[\u001b[0m\u001b[0;34m't'\u001b[0m\u001b[0;34m,\u001b[0m \u001b[0;34m'U'\u001b[0m\u001b[0;34m]\u001b[0m\u001b[0;34m)\u001b[0m\u001b[0;34m\u001b[0m\u001b[0;34m\u001b[0m\u001b[0m\n\u001b[0m",
      "\u001b[0;31mNameError\u001b[0m: name 'pd' is not defined"
     ]
    }
   ],
   "source": [
    "data = pd.read_csv(filename, sep=';',header=None, names=['t', 'U'])"
   ]
  },
  {
   "cell_type": "code",
   "execution_count": 6,
   "metadata": {},
   "outputs": [],
   "source": [
    "#Если необходимо перевести время в другую единицу измерения\n",
    "#data['t']=data['t']/1000 # перевод колонки t в мсек"
   ]
  },
  {
   "cell_type": "markdown",
   "metadata": {},
   "source": [
    "Построим зависимость измеpений от времени:"
   ]
  },
  {
   "cell_type": "code",
   "execution_count": 7,
   "metadata": {},
   "outputs": [
    {
     "ename": "NameError",
     "evalue": "name 'data' is not defined",
     "output_type": "error",
     "traceback": [
      "\u001b[0;31m---------------------------------------------------------------------------\u001b[0m",
      "\u001b[0;31mNameError\u001b[0m                                 Traceback (most recent call last)",
      "\u001b[0;32m<ipython-input-7-75553bc8fa3b>\u001b[0m in \u001b[0;36m<module>\u001b[0;34m\u001b[0m\n\u001b[0;32m----> 1\u001b[0;31m \u001b[0mplt\u001b[0m\u001b[0;34m.\u001b[0m\u001b[0mplot\u001b[0m\u001b[0;34m(\u001b[0m\u001b[0mdata\u001b[0m\u001b[0;34m.\u001b[0m\u001b[0mt\u001b[0m\u001b[0;34m,\u001b[0m\u001b[0mdata\u001b[0m\u001b[0;34m.\u001b[0m\u001b[0mU\u001b[0m\u001b[0;34m)\u001b[0m\u001b[0;34m\u001b[0m\u001b[0;34m\u001b[0m\u001b[0m\n\u001b[0m\u001b[1;32m      2\u001b[0m \u001b[0mplt\u001b[0m\u001b[0;34m.\u001b[0m\u001b[0mgrid\u001b[0m\u001b[0;34m(\u001b[0m\u001b[0;32mTrue\u001b[0m\u001b[0;34m)\u001b[0m\u001b[0;34m\u001b[0m\u001b[0;34m\u001b[0m\u001b[0m\n",
      "\u001b[0;31mNameError\u001b[0m: name 'data' is not defined"
     ]
    }
   ],
   "source": [
    "plt.plot(data.t,data.U)\n",
    "plt.grid(True)"
   ]
  },
  {
   "cell_type": "markdown",
   "metadata": {},
   "source": [
    "Исходя из графика и уравнения объекта, подберите начальное приближение:\n",
    "$A_{0},B_{0},C_{0},D_{0},E_{0}$\n",
    "\n",
    "ПРИМЕЧАНИЕ: если в процессе оценивания параметров МНК разойдется, то возможно стоит выбрать более точное начальное приближение."
   ]
  },
  {
   "cell_type": "code",
   "execution_count": 8,
   "metadata": {},
   "outputs": [],
   "source": [
    "#Ваш код здесь\n",
    "A_0 = 1.4455\n",
    "B_0 = 0.448798951\n",
    "C_0 = 2.8274333388\n",
    "D_0 = -0.017\n",
    "E_0 = -0.171"
   ]
  },
  {
   "cell_type": "markdown",
   "metadata": {},
   "source": [
    "Определите функции, возвращающие значения частных производных:"
   ]
  },
  {
   "cell_type": "code",
   "execution_count": 9,
   "metadata": {},
   "outputs": [],
   "source": [
    "# from sympy import *\n",
    "# import numpy as np\n",
    "\n",
    "# A,B,C,D,E,t,n= symbols('A B C D E t n')\n",
    "# y=A*cos(B*t+C)*exp(D*t)+E\n",
    "\n",
    "# def dFdA():\n",
    "#     print(y.diff(A))\n",
    "#     return y.diff(A)\n",
    "# def dFdB():\n",
    "#     print(y.diff(B))\n",
    "#     return y.diff(B)\n",
    "# def dFdC():\n",
    "#     print(y.diff(C))\n",
    "#     return y.diff(C)\n",
    "# def dFdD():\n",
    "#     print(y.diff(D))\n",
    "#     return y.diff(D)\n",
    "# def dFdE():\n",
    "#     print(y.diff(E))\n",
    "#     return y.diff(E)\n",
    "#Ваш код здесь\n",
    "def dFdA(t, A_0, B_0, C_0, D_0, E_0):\n",
    "    y_A=np.exp(D_0*t)*np.cos(B_0*t+C_0)\n",
    "    return y_A\n",
    "\n",
    "def dFdB(t, A_0, B_0, C_0, D_0, E_0):\n",
    "    y_B=-A_0*t*np.exp(D_0*t)*np.sin(B_0*t+C_0)\n",
    "    return y_B\n",
    "\n",
    "def dFdC(t, A_0, B_0, C_0, D_0, E_0):\n",
    "    y_C=-A_0*np.exp(D_0*t)*np.sin(B_0*t+C_0)\n",
    "    return y_C\n",
    "\n",
    "def dFdD(t, A_0, B_0, C_0, D_0, E_0):\n",
    "    y_D=A_0*t*np.exp(D_0*t)*np.cos(B_0*t+C_0)\n",
    "    return y_D\n",
    "\n",
    "def dFdE(t, A_0, B_0, C_0, D_0, E_0):\n",
    "    y_E=1\n",
    "    return y_E \n"
   ]
  },
  {
   "cell_type": "markdown",
   "metadata": {},
   "source": [
    "Реализуйте МНК для линеаризованного объекта и найдите оценку параметров: $\\tilde{A},\\tilde{B},\\tilde{C},\\tilde{D},\\tilde{E}$"
   ]
  },
  {
   "cell_type": "code",
   "execution_count": 10,
   "metadata": {},
   "outputs": [
    {
     "name": "stdout",
     "output_type": "stream",
     "text": [
      "итерация  0\n",
      "A = [1.48386248]\n",
      "B = [0.44871406]\n",
      "C = [2.49431725]\n",
      "D = [-0.0219556]\n",
      "E = [-0.16482924]\n",
      "итерация  1\n",
      "A = [1.58857991]\n",
      "B = [0.44535616]\n",
      "C = [2.54982633]\n",
      "D = [-0.02274977]\n",
      "E = [-0.16473033]\n",
      "итерация  2\n",
      "A = [1.59957627]\n",
      "B = [0.44532241]\n",
      "C = [2.55034435]\n",
      "D = [-0.02291214]\n",
      "E = [-0.16471001]\n",
      "итерация  3\n",
      "A = [1.59972179]\n",
      "B = [0.44529725]\n",
      "C = [2.55090947]\n",
      "D = [-0.0229163]\n",
      "E = [-0.16471547]\n",
      "Количество итераций =  4\n",
      "Сумма квадратов ошибок =  [5.5855102]\n",
      "Начальный параметр A = 1.4455       Новый параметр = [1.59972179]\n",
      "Начальный параметр B = 0.448798951       Новый параметр = [0.44529725]\n",
      "Начальный параметр C = 2.8274333388       Новый параметр = [2.55090947]\n",
      "Начальный параметр D = -0.017       Новый параметр = [-0.0229163]\n",
      "Начальный параметр E = -0.171       Новый параметр = [-0.16471547]\n"
     ]
    }
   ],
   "source": [
    "Q_j = numpy.array(range(5), dtype = np.double)\n",
    "Q_j.shape = (5,1) \n",
    "Q_j1 = numpy.array(range(5), dtype = np.double)\n",
    "Q_j1.shape = (5,1) \n",
    "Y_f=numpy.array(range(200), dtype = np.double)\n",
    "Y_f.shape=(200,1)\n",
    "SS=numpy.array(range(200), dtype = np.double)\n",
    "SS.shape=(200,1)\n",
    "Beta_opt = numpy.array(range(5), dtype = np.double)\n",
    "Beta_opt.shape = (5,1)\n",
    "\n",
    "Q_j1[0]=A_0\n",
    "Q_j1[1]=B_0\n",
    "Q_j1[2]=C_0\n",
    "Q_j1[3]=D_0\n",
    "Q_j1[4]=E_0\n",
    "Q_j[0]=13\n",
    "Q_j[1]=13\n",
    "Q_j[2]=13\n",
    "Q_j[3]=13\n",
    "Q_j[4]=13\n",
    "i=0\n",
    "j=0\n",
    "S=0\n",
    "with open(filename, 'r') as fp:\n",
    "    reader = csv.reader(fp, delimiter=',', quotechar='\"')\n",
    "    data_read = [row for row in reader]\n",
    "    while (np.abs(Q_j1[0]-Q_j[0])>0.00001) and (np.abs(Q_j1[1]-Q_j[1])>0.00001) and (np.abs(Q_j1[2]-Q_j[2])>0.00001) and (np.abs(Q_j1[3]-Q_j[3])>0.00001) and (np.abs(Q_j1[4]-Q_j[4])>0.00001):\n",
    "        Z = numpy.array(range(1000), dtype = np.double)\n",
    "        Z.shape = (200,5) \n",
    "        Q_j[0]=Q_j1[0]\n",
    "        Q_j[1]=Q_j1[1]\n",
    "        Q_j[2]=Q_j1[2]\n",
    "        Q_j[3]=Q_j1[3]\n",
    "        Q_j[4]=Q_j1[4]\n",
    "        # Задаем матрицу Z\n",
    "        for i in range(200):\n",
    "#             print(\"i=\", i)\n",
    "            t = float(data_read[i][0].partition(\";\")[0])\n",
    "#             print(\"t=\", t)\n",
    "            Y = float(data_read[i][0].partition(\";\")[2])\n",
    "#             print(\"Y=\", Y)\n",
    "            Y_f[i] = Y - Q_j[0]*np.exp(Q_j[3]*t)*np.cos(Q_j[1]*t+Q_j[2])-Q_j[4] \n",
    "            SS[i]=Y_f[i]*Y_f[i]\n",
    "            S=S+SS[i]\n",
    "#             print(\"Разница = \", Y_f[i])\n",
    "            # Матрица Z\n",
    "            Z[i][0]= dFdA(t, Q_j[0], Q_j[1], Q_j[2], Q_j[3], Q_j[4])\n",
    "            Z[i][1]= dFdB(t, Q_j[0], Q_j[1], Q_j[2], Q_j[3], Q_j[4])\n",
    "            Z[i][2]= dFdC(t, Q_j[0], Q_j[1], Q_j[2], Q_j[3], Q_j[4])\n",
    "            Z[i][3]= dFdD(t, Q_j[0], Q_j[1], Q_j[2], Q_j[3], Q_j[4])\n",
    "            Z[i][4]= dFdE(t, Q_j[0], Q_j[1], Q_j[2], Q_j[3], Q_j[4])\n",
    "            i = i + 1\n",
    "        R=np.eye(200)\n",
    "        Z = np.asmatrix(Z)\n",
    "        Beta_opt =(Z.getT()*R*Z).getI()*Z.getT()*R*Y_f\n",
    "        print(\"итерация \",j)\n",
    "        Q_j1[0]=Q_j[0]+Beta_opt[0]\n",
    "        print(\"A = \"+str(Q_j1[0]))\n",
    "        Q_j1[1]=Q_j[1]+Beta_opt[1]\n",
    "        print(\"B = \"+str(Q_j1[1]))\n",
    "        Q_j1[2]=Q_j[2]+Beta_opt[2]\n",
    "        print(\"C = \"+str(Q_j1[2]))\n",
    "        Q_j1[3]=Q_j[3]+Beta_opt[3]\n",
    "        print(\"D = \"+str(Q_j1[3]))\n",
    "        Q_j1[4]=Q_j[4]+Beta_opt[4]\n",
    "        print(\"E = \"+str(Q_j1[4]))\n",
    "        j=j+1\n",
    "    print(\"Количество итераций = \", j)\n",
    "    print(\"Сумма квадратов ошибок = \", S) \n",
    "    print(\"Начальный параметр A = \"+ str(A_0)+\"       Новый параметр = \"+str(Q_j1[0]))\n",
    "    print(\"Начальный параметр B = \"+ str(B_0)+\"       Новый параметр = \"+str(Q_j1[1]))\n",
    "    print(\"Начальный параметр C = \"+ str(C_0)+\"       Новый параметр = \"+str(Q_j1[2]))\n",
    "    print(\"Начальный параметр D = \"+ str(D_0)+\"       Новый параметр = \"+str(Q_j1[3]))\n",
    "    print(\"Начальный параметр E = \"+ str(E_0)+\"       Новый параметр = \"+str(Q_j1[4]))"
   ]
  },
  {
   "cell_type": "markdown",
   "metadata": {},
   "source": [
    "Постройте графики для исходных измерений и полученной модели объекта:"
   ]
  },
  {
   "cell_type": "code",
   "execution_count": 11,
   "metadata": {},
   "outputs": [
    {
     "ename": "NameError",
     "evalue": "name 'pd' is not defined",
     "output_type": "error",
     "traceback": [
      "\u001b[0;31m---------------------------------------------------------------------------\u001b[0m",
      "\u001b[0;31mNameError\u001b[0m                                 Traceback (most recent call last)",
      "\u001b[0;32m<ipython-input-11-ff19e10ea904>\u001b[0m in \u001b[0;36m<module>\u001b[0;34m\u001b[0m\n\u001b[1;32m      1\u001b[0m \u001b[0;31m#График для исходных измерений\u001b[0m\u001b[0;34m\u001b[0m\u001b[0;34m\u001b[0m\u001b[0;34m\u001b[0m\u001b[0m\n\u001b[0;32m----> 2\u001b[0;31m \u001b[0mdata\u001b[0m \u001b[0;34m=\u001b[0m \u001b[0mpd\u001b[0m\u001b[0;34m.\u001b[0m\u001b[0mread_csv\u001b[0m\u001b[0;34m(\u001b[0m\u001b[0mfilename\u001b[0m\u001b[0;34m,\u001b[0m \u001b[0msep\u001b[0m\u001b[0;34m=\u001b[0m\u001b[0;34m';'\u001b[0m\u001b[0;34m,\u001b[0m\u001b[0mheader\u001b[0m\u001b[0;34m=\u001b[0m\u001b[0;32mNone\u001b[0m\u001b[0;34m,\u001b[0m \u001b[0mnames\u001b[0m\u001b[0;34m=\u001b[0m\u001b[0;34m[\u001b[0m\u001b[0;34m't'\u001b[0m\u001b[0;34m,\u001b[0m \u001b[0;34m'U'\u001b[0m\u001b[0;34m]\u001b[0m\u001b[0;34m)\u001b[0m\u001b[0;34m\u001b[0m\u001b[0;34m\u001b[0m\u001b[0m\n\u001b[0m\u001b[1;32m      3\u001b[0m \u001b[0mplt\u001b[0m\u001b[0;34m.\u001b[0m\u001b[0mplot\u001b[0m\u001b[0;34m(\u001b[0m\u001b[0mdata\u001b[0m\u001b[0;34m.\u001b[0m\u001b[0mt\u001b[0m\u001b[0;34m,\u001b[0m\u001b[0mdata\u001b[0m\u001b[0;34m.\u001b[0m\u001b[0mU\u001b[0m\u001b[0;34m,\u001b[0m \u001b[0mcolor\u001b[0m\u001b[0;34m=\u001b[0m\u001b[0;34m'b'\u001b[0m\u001b[0;34m)\u001b[0m\u001b[0;34m\u001b[0m\u001b[0;34m\u001b[0m\u001b[0m\n\u001b[1;32m      4\u001b[0m \u001b[0mplt\u001b[0m\u001b[0;34m.\u001b[0m\u001b[0mgrid\u001b[0m\u001b[0;34m(\u001b[0m\u001b[0;32mTrue\u001b[0m\u001b[0;34m)\u001b[0m\u001b[0;34m\u001b[0m\u001b[0;34m\u001b[0m\u001b[0m\n\u001b[1;32m      5\u001b[0m \u001b[0;34m\u001b[0m\u001b[0m\n",
      "\u001b[0;31mNameError\u001b[0m: name 'pd' is not defined"
     ]
    }
   ],
   "source": [
    "#График для исходных измерений\n",
    "data = pd.read_csv(filename, sep=';',header=None, names=['t', 'U'])\n",
    "plt.plot(data.t,data.U, color='b')\n",
    "plt.grid(True)\n",
    "\n",
    "#График для полученной модели\n",
    "y = numpy.array(range(200), dtype = np.double)\n",
    "y.shape = (200,1) \n",
    "i=0\n",
    "for i in range(200):\n",
    "    y[i]=Q_j1[0]*np.exp(Q_j1[3]*i)*np.cos(Q_j1[1]*i+Q_j1[2])+ Q_j1[4]\n",
    "    i=i+1\n",
    "plt.plot(data.t,y, color='r')\n",
    "plt.grid(True)"
   ]
  },
  {
   "cell_type": "markdown",
   "metadata": {},
   "source": [
    "Постройте график остатков и сделайте выводы о применимости линеаризации для оценки параметров нелинейных объектов:"
   ]
  },
  {
   "cell_type": "code",
   "execution_count": 12,
   "metadata": {},
   "outputs": [
    {
     "data": {
      "image/png": "[encoded data removed]",
      "text/plain": [
       "<Figure size 432x288 with 1 Axes>"
      ]
     },
     "metadata": {
      "needs_background": "light"
     },
     "output_type": "display_data"
    }
   ],
   "source": [
    "#Ваш код здесь\n",
    "plt.plot(data.t,Y_f, color='k')\n",
    "plt.grid(True)\n",
    "# plt.plot(data.t,SS, color='r')\n",
    "# plt.grid(True)"
   ]
  },
  {
   "cell_type": "markdown",
   "metadata": {},
   "source": [
    "**После выполнения лабораторной работы необходимо написать краткий отчет, который должен включать в себя:**\n",
    "    - титульный лист\n",
    "    - описание моделируемого объекта\n",
    "    - математические выкладки о применении МНК для оценки параметров моделируемого объекта\n",
    "    - выводы о применимости линеаризации для оценки параметров нелинейных объектов"
   ]
  }
 ],
 "metadata": {
  "kernelspec": {
   "display_name": "Python 3",
   "language": "python",
   "name": "python3"
  },
  "language_info": {
   "codemirror_mode": {
    "name": "ipython",
    "version": 3
   },
   "file_extension": ".py",
   "mimetype": "text/x-python",
   "name": "python",
   "nbconvert_exporter": "python",
   "pygments_lexer": "ipython3",
   "version": "3.8.5"
  }
 },
 "nbformat": 4,
 "nbformat_minor": 2
}
